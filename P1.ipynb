{
 "cells": [
  {
   "cell_type": "code",
   "execution_count": 1,
   "metadata": {},
   "outputs": [],
   "source": [
    "import numpy as np\n",
    "import pandas as pd\n",
    "import matplotlib.pyplot as plt"
   ]
  },
  {
   "cell_type": "code",
   "execution_count": 2,
   "metadata": {},
   "outputs": [],
   "source": [
    "dataset =pd.read_csv('Desktop/Health.csv')"
   ]
  },
  {
   "cell_type": "code",
   "execution_count": 3,
   "metadata": {},
   "outputs": [
    {
     "data": {
      "text/html": [
       "<div>\n",
       "<style scoped>\n",
       "    .dataframe tbody tr th:only-of-type {\n",
       "        vertical-align: middle;\n",
       "    }\n",
       "\n",
       "    .dataframe tbody tr th {\n",
       "        vertical-align: top;\n",
       "    }\n",
       "\n",
       "    .dataframe thead th {\n",
       "        text-align: right;\n",
       "    }\n",
       "</style>\n",
       "<table border=\"1\" class=\"dataframe\">\n",
       "  <thead>\n",
       "    <tr style=\"text-align: right;\">\n",
       "      <th></th>\n",
       "      <th>Age</th>\n",
       "      <th>HeartBeat</th>\n",
       "      <th>Systolic</th>\n",
       "      <th>Diastolic</th>\n",
       "      <th>Sugar</th>\n",
       "      <th>Alert</th>\n",
       "    </tr>\n",
       "  </thead>\n",
       "  <tbody>\n",
       "    <tr>\n",
       "      <th>0</th>\n",
       "      <td>18</td>\n",
       "      <td>49</td>\n",
       "      <td>90</td>\n",
       "      <td>60</td>\n",
       "      <td>80</td>\n",
       "      <td>0</td>\n",
       "    </tr>\n",
       "    <tr>\n",
       "      <th>1</th>\n",
       "      <td>18</td>\n",
       "      <td>49</td>\n",
       "      <td>90</td>\n",
       "      <td>60</td>\n",
       "      <td>100</td>\n",
       "      <td>0</td>\n",
       "    </tr>\n",
       "    <tr>\n",
       "      <th>2</th>\n",
       "      <td>18</td>\n",
       "      <td>49</td>\n",
       "      <td>90</td>\n",
       "      <td>60</td>\n",
       "      <td>120</td>\n",
       "      <td>0</td>\n",
       "    </tr>\n",
       "    <tr>\n",
       "      <th>3</th>\n",
       "      <td>18</td>\n",
       "      <td>49</td>\n",
       "      <td>90</td>\n",
       "      <td>60</td>\n",
       "      <td>140</td>\n",
       "      <td>0</td>\n",
       "    </tr>\n",
       "    <tr>\n",
       "      <th>4</th>\n",
       "      <td>18</td>\n",
       "      <td>49</td>\n",
       "      <td>90</td>\n",
       "      <td>60</td>\n",
       "      <td>160</td>\n",
       "      <td>0</td>\n",
       "    </tr>\n",
       "  </tbody>\n",
       "</table>\n",
       "</div>"
      ],
      "text/plain": [
       "   Age  HeartBeat  Systolic  Diastolic  Sugar  Alert\n",
       "0   18         49        90         60     80      0\n",
       "1   18         49        90         60    100      0\n",
       "2   18         49        90         60    120      0\n",
       "3   18         49        90         60    140      0\n",
       "4   18         49        90         60    160      0"
      ]
     },
     "execution_count": 3,
     "metadata": {},
     "output_type": "execute_result"
    }
   ],
   "source": [
    "dataset.head()"
   ]
  },
  {
   "cell_type": "code",
   "execution_count": 4,
   "metadata": {},
   "outputs": [],
   "source": [
    "x= dataset.iloc[:22000,:5].values"
   ]
  },
  {
   "cell_type": "code",
   "execution_count": 5,
   "metadata": {},
   "outputs": [
    {
     "data": {
      "text/plain": [
       "numpy.ndarray"
      ]
     },
     "execution_count": 5,
     "metadata": {},
     "output_type": "execute_result"
    }
   ],
   "source": [
    "type(x)"
   ]
  },
  {
   "cell_type": "code",
   "execution_count": 6,
   "metadata": {},
   "outputs": [
    {
     "data": {
      "text/plain": [
       "array([[ 18,  49,  90,  60,  80],\n",
       "       [ 18,  49,  90,  60, 100],\n",
       "       [ 18,  49,  90,  60, 120],\n",
       "       ...,\n",
       "       [ 55,  79, 181, 121, 341],\n",
       "       [ 55,  79, 181, 121, 361],\n",
       "       [ 55,  79, 181, 121, 381]], dtype=int64)"
      ]
     },
     "execution_count": 6,
     "metadata": {},
     "output_type": "execute_result"
    }
   ],
   "source": [
    "x"
   ]
  },
  {
   "cell_type": "code",
   "execution_count": 7,
   "metadata": {},
   "outputs": [],
   "source": [
    "y= dataset.iloc[:22000,-1:].values"
   ]
  },
  {
   "cell_type": "code",
   "execution_count": 8,
   "metadata": {},
   "outputs": [
    {
     "data": {
      "text/plain": [
       "array([[0],\n",
       "       [0],\n",
       "       [0],\n",
       "       ...,\n",
       "       [1],\n",
       "       [1],\n",
       "       [1]], dtype=int64)"
      ]
     },
     "execution_count": 8,
     "metadata": {},
     "output_type": "execute_result"
    }
   ],
   "source": [
    "y"
   ]
  },
  {
   "cell_type": "code",
   "execution_count": 9,
   "metadata": {},
   "outputs": [],
   "source": [
    "from sklearn.model_selection import train_test_split           \n",
    "x_train,x_test,y_train,y_test=train_test_split(x,y,test_size=0.2,random_state=0)"
   ]
  },
  {
   "cell_type": "code",
   "execution_count": 10,
   "metadata": {},
   "outputs": [
    {
     "name": "stderr",
     "output_type": "stream",
     "text": [
      "Using TensorFlow backend.\n"
     ]
    }
   ],
   "source": [
    "import keras \n",
    "from keras.models import Sequential \n",
    "from keras.layers import Dense "
   ]
  },
  {
   "cell_type": "code",
   "execution_count": 182,
   "metadata": {},
   "outputs": [],
   "source": [
    "model=Sequential()"
   ]
  },
  {
   "cell_type": "code",
   "execution_count": 183,
   "metadata": {},
   "outputs": [
    {
     "name": "stderr",
     "output_type": "stream",
     "text": [
      "C:\\Users\\Akhil\\Anaconda3\\lib\\site-packages\\ipykernel_launcher.py:1: UserWarning: Update your `Dense` call to the Keras 2 API: `Dense(input_dim=5, activation=\"relu\", units=3, kernel_initializer=\"random_uniform\")`\n",
      "  \"\"\"Entry point for launching an IPython kernel.\n"
     ]
    }
   ],
   "source": [
    "model.add(Dense(input_dim=5,init=\"random_uniform\",activation=\"relu\",output_dim=3))"
   ]
  },
  {
   "cell_type": "code",
   "execution_count": 184,
   "metadata": {},
   "outputs": [
    {
     "name": "stderr",
     "output_type": "stream",
     "text": [
      "C:\\Users\\Akhil\\Anaconda3\\lib\\site-packages\\ipykernel_launcher.py:1: UserWarning: Update your `Dense` call to the Keras 2 API: `Dense(activation=\"relu\", units=3, kernel_initializer=\"random_uniform\")`\n",
      "  \"\"\"Entry point for launching an IPython kernel.\n"
     ]
    }
   ],
   "source": [
    "model.add(Dense(output_dim=3,init=\"random_uniform\",activation=\"relu\"))"
   ]
  },
  {
   "cell_type": "code",
   "execution_count": 185,
   "metadata": {},
   "outputs": [
    {
     "name": "stderr",
     "output_type": "stream",
     "text": [
      "C:\\Users\\Akhil\\Anaconda3\\lib\\site-packages\\ipykernel_launcher.py:1: UserWarning: Update your `Dense` call to the Keras 2 API: `Dense(activation=\"sigmoid\", units=1, kernel_initializer=\"random_uniform\")`\n",
      "  \"\"\"Entry point for launching an IPython kernel.\n"
     ]
    }
   ],
   "source": [
    "model.add(Dense(output_dim=1,init=\"random_uniform\",activation=\"sigmoid\"))"
   ]
  },
  {
   "cell_type": "code",
   "execution_count": 186,
   "metadata": {},
   "outputs": [],
   "source": [
    "model.compile(optimizer='adam',loss='binary_crossentropy',metrics=['accuracy'])"
   ]
  },
  {
   "cell_type": "code",
   "execution_count": 506,
   "metadata": {},
   "outputs": [
    {
     "name": "stdout",
     "output_type": "stream",
     "text": [
      "Epoch 1/100\n",
      "17600/17600 [==============================] - 0s 12us/step - loss: 0.0517 - acc: 0.9775\n",
      "Epoch 2/100\n",
      "17600/17600 [==============================] - 0s 11us/step - loss: 0.0527 - acc: 0.9774\n",
      "Epoch 3/100\n",
      "17600/17600 [==============================] - 0s 11us/step - loss: 0.0505 - acc: 0.9789\n",
      "Epoch 4/100\n",
      "17600/17600 [==============================] - 0s 12us/step - loss: 0.0503 - acc: 0.9789\n",
      "Epoch 5/100\n",
      "17600/17600 [==============================] - 0s 13us/step - loss: 0.0502 - acc: 0.9790\n",
      "Epoch 6/100\n",
      "17600/17600 [==============================] - 0s 12us/step - loss: 0.0508 - acc: 0.9788\n",
      "Epoch 7/100\n",
      "17600/17600 [==============================] - 0s 11us/step - loss: 0.0511 - acc: 0.9792\n",
      "Epoch 8/100\n",
      "17600/17600 [==============================] - 0s 11us/step - loss: 0.0496 - acc: 0.9801\n",
      "Epoch 9/100\n",
      "17600/17600 [==============================] - 0s 12us/step - loss: 0.0496 - acc: 0.9794\n",
      "Epoch 10/100\n",
      "17600/17600 [==============================] - 0s 13us/step - loss: 0.0506 - acc: 0.9786\n",
      "Epoch 11/100\n",
      "17600/17600 [==============================] - 0s 12us/step - loss: 0.0496 - acc: 0.9799\n",
      "Epoch 12/100\n",
      "17600/17600 [==============================] - 0s 12us/step - loss: 0.0505 - acc: 0.9789\n",
      "Epoch 13/100\n",
      "17600/17600 [==============================] - 0s 12us/step - loss: 0.0502 - acc: 0.9786\n",
      "Epoch 14/100\n",
      "17600/17600 [==============================] - 0s 12us/step - loss: 0.0503 - acc: 0.9795\n",
      "Epoch 15/100\n",
      "17600/17600 [==============================] - 0s 13us/step - loss: 0.0496 - acc: 0.9793\n",
      "Epoch 16/100\n",
      "17600/17600 [==============================] - 0s 12us/step - loss: 0.0521 - acc: 0.9783\n",
      "Epoch 17/100\n",
      "17600/17600 [==============================] - 0s 12us/step - loss: 0.0505 - acc: 0.9785\n",
      "Epoch 18/100\n",
      "17600/17600 [==============================] - 0s 13us/step - loss: 0.0500 - acc: 0.9783\n",
      "Epoch 19/100\n",
      "17600/17600 [==============================] - 0s 14us/step - loss: 0.0494 - acc: 0.9797\n",
      "Epoch 20/100\n",
      "17600/17600 [==============================] - 0s 14us/step - loss: 0.0500 - acc: 0.9784\n",
      "Epoch 21/100\n",
      "17600/17600 [==============================] - 0s 12us/step - loss: 0.0503 - acc: 0.9794\n",
      "Epoch 22/100\n",
      "17600/17600 [==============================] - 0s 14us/step - loss: 0.0498 - acc: 0.9800\n",
      "Epoch 23/100\n",
      "17600/17600 [==============================] - 0s 14us/step - loss: 0.0504 - acc: 0.9782\n",
      "Epoch 24/100\n",
      "17600/17600 [==============================] - 0s 15us/step - loss: 0.0495 - acc: 0.9794\n",
      "Epoch 25/100\n",
      "17600/17600 [==============================] - 0s 12us/step - loss: 0.0501 - acc: 0.9801\n",
      "Epoch 26/100\n",
      "17600/17600 [==============================] - 0s 16us/step - loss: 0.0500 - acc: 0.9789\n",
      "Epoch 27/100\n",
      "17600/17600 [==============================] - 0s 14us/step - loss: 0.0507 - acc: 0.9791\n",
      "Epoch 28/100\n",
      "17600/17600 [==============================] - 0s 17us/step - loss: 0.0495 - acc: 0.9785\n",
      "Epoch 29/100\n",
      "17600/17600 [==============================] - 0s 16us/step - loss: 0.0502 - acc: 0.9778\n",
      "Epoch 30/100\n",
      "17600/17600 [==============================] - 0s 16us/step - loss: 0.0499 - acc: 0.9793\n",
      "Epoch 31/100\n",
      "17600/17600 [==============================] - 0s 16us/step - loss: 0.0502 - acc: 0.9800\n",
      "Epoch 32/100\n",
      "17600/17600 [==============================] - 0s 14us/step - loss: 0.0498 - acc: 0.9791\n",
      "Epoch 33/100\n",
      "17600/17600 [==============================] - 0s 13us/step - loss: 0.0500 - acc: 0.9797\n",
      "Epoch 34/100\n",
      "17600/17600 [==============================] - 0s 14us/step - loss: 0.0491 - acc: 0.9795\n",
      "Epoch 35/100\n",
      "17600/17600 [==============================] - 0s 17us/step - loss: 0.0503 - acc: 0.9790\n",
      "Epoch 36/100\n",
      "17600/17600 [==============================] - 0s 14us/step - loss: 0.0498 - acc: 0.9794\n",
      "Epoch 37/100\n",
      "17600/17600 [==============================] - 0s 14us/step - loss: 0.0498 - acc: 0.9798\n",
      "Epoch 38/100\n",
      "17600/17600 [==============================] - 0s 15us/step - loss: 0.0497 - acc: 0.9793\n",
      "Epoch 39/100\n",
      "17600/17600 [==============================] - 0s 14us/step - loss: 0.0497 - acc: 0.9797\n",
      "Epoch 40/100\n",
      "17600/17600 [==============================] - 0s 15us/step - loss: 0.0499 - acc: 0.9790\n",
      "Epoch 41/100\n",
      "17600/17600 [==============================] - 0s 13us/step - loss: 0.0500 - acc: 0.9793\n",
      "Epoch 42/100\n",
      "17600/17600 [==============================] - 0s 13us/step - loss: 0.0499 - acc: 0.9792\n",
      "Epoch 43/100\n",
      "17600/17600 [==============================] - 0s 13us/step - loss: 0.0503 - acc: 0.9790\n",
      "Epoch 44/100\n",
      "17600/17600 [==============================] - 0s 15us/step - loss: 0.0496 - acc: 0.9797\n",
      "Epoch 45/100\n",
      "17600/17600 [==============================] - 0s 16us/step - loss: 0.0501 - acc: 0.9789\n",
      "Epoch 46/100\n",
      "17600/17600 [==============================] - 0s 13us/step - loss: 0.0494 - acc: 0.9793\n",
      "Epoch 47/100\n",
      "17600/17600 [==============================] - 0s 13us/step - loss: 0.0499 - acc: 0.9789\n",
      "Epoch 48/100\n",
      "17600/17600 [==============================] - 0s 13us/step - loss: 0.0492 - acc: 0.9797\n",
      "Epoch 49/100\n",
      "17600/17600 [==============================] - 0s 15us/step - loss: 0.0504 - acc: 0.9784\n",
      "Epoch 50/100\n",
      "17600/17600 [==============================] - 0s 12us/step - loss: 0.0498 - acc: 0.9798\n",
      "Epoch 51/100\n",
      "17600/17600 [==============================] - 0s 12us/step - loss: 0.0491 - acc: 0.9801\n",
      "Epoch 52/100\n",
      "17600/17600 [==============================] - 0s 12us/step - loss: 0.0495 - acc: 0.9801\n",
      "Epoch 53/100\n",
      "17600/17600 [==============================] - 0s 14us/step - loss: 0.0491 - acc: 0.9790\n",
      "Epoch 54/100\n",
      "17600/17600 [==============================] - 0s 14us/step - loss: 0.0491 - acc: 0.9802\n",
      "Epoch 55/100\n",
      "17600/17600 [==============================] - 0s 12us/step - loss: 0.0498 - acc: 0.9795\n",
      "Epoch 56/100\n",
      "17600/17600 [==============================] - 0s 11us/step - loss: 0.0498 - acc: 0.9796\n",
      "Epoch 57/100\n",
      "17600/17600 [==============================] - 0s 11us/step - loss: 0.0495 - acc: 0.9794\n",
      "Epoch 58/100\n",
      "17600/17600 [==============================] - 0s 14us/step - loss: 0.0497 - acc: 0.9803\n",
      "Epoch 59/100\n",
      "17600/17600 [==============================] - 0s 12us/step - loss: 0.0491 - acc: 0.9795\n",
      "Epoch 60/100\n",
      "17600/17600 [==============================] - 0s 11us/step - loss: 0.0501 - acc: 0.9793\n",
      "Epoch 61/100\n",
      "17600/17600 [==============================] - 0s 11us/step - loss: 0.0495 - acc: 0.9793\n",
      "Epoch 62/100\n",
      "17600/17600 [==============================] - 0s 13us/step - loss: 0.0506 - acc: 0.9789\n",
      "Epoch 63/100\n",
      "17600/17600 [==============================] - 0s 15us/step - loss: 0.0495 - acc: 0.9799\n",
      "Epoch 64/100\n",
      "17600/17600 [==============================] - 0s 12us/step - loss: 0.0492 - acc: 0.9800\n",
      "Epoch 65/100\n",
      "17600/17600 [==============================] - 0s 14us/step - loss: 0.0494 - acc: 0.9796\n",
      "Epoch 66/100\n",
      "17600/17600 [==============================] - 0s 14us/step - loss: 0.0486 - acc: 0.9808\n",
      "Epoch 67/100\n",
      "17600/17600 [==============================] - 0s 14us/step - loss: 0.0494 - acc: 0.9794\n",
      "Epoch 68/100\n",
      "17600/17600 [==============================] - 0s 13us/step - loss: 0.0503 - acc: 0.9788\n",
      "Epoch 69/100\n",
      "17600/17600 [==============================] - 0s 12us/step - loss: 0.0492 - acc: 0.9803\n",
      "Epoch 70/100\n",
      "17600/17600 [==============================] - 0s 12us/step - loss: 0.0490 - acc: 0.9806\n",
      "Epoch 71/100\n",
      "17600/17600 [==============================] - 0s 13us/step - loss: 0.0489 - acc: 0.9797\n",
      "Epoch 72/100\n",
      "17600/17600 [==============================] - 0s 14us/step - loss: 0.0485 - acc: 0.9808\n",
      "Epoch 73/100\n",
      "17600/17600 [==============================] - 0s 14us/step - loss: 0.0485 - acc: 0.9809\n",
      "Epoch 74/100\n",
      "17600/17600 [==============================] - 0s 15us/step - loss: 0.0487 - acc: 0.9806\n",
      "Epoch 75/100\n",
      "17600/17600 [==============================] - 0s 13us/step - loss: 0.0496 - acc: 0.9807\n",
      "Epoch 76/100\n",
      "17600/17600 [==============================] - 0s 15us/step - loss: 0.0487 - acc: 0.9802\n",
      "Epoch 77/100\n",
      "17600/17600 [==============================] - 0s 12us/step - loss: 0.0493 - acc: 0.9793\n",
      "Epoch 78/100\n",
      "17600/17600 [==============================] - 0s 15us/step - loss: 0.0483 - acc: 0.9802\n",
      "Epoch 79/100\n",
      "17600/17600 [==============================] - 0s 14us/step - loss: 0.0485 - acc: 0.9803\n",
      "Epoch 80/100\n",
      "17600/17600 [==============================] - 0s 18us/step - loss: 0.0489 - acc: 0.9802\n",
      "Epoch 81/100\n",
      "17600/17600 [==============================] - 0s 13us/step - loss: 0.0489 - acc: 0.9805\n",
      "Epoch 82/100\n",
      "17600/17600 [==============================] - 0s 11us/step - loss: 0.0488 - acc: 0.9803: 0s - loss: 0.0490 - acc: 0.98\n",
      "Epoch 83/100\n",
      "17600/17600 [==============================] - 0s 11us/step - loss: 0.0488 - acc: 0.9808\n",
      "Epoch 84/100\n",
      "17600/17600 [==============================] - 0s 12us/step - loss: 0.0488 - acc: 0.9803\n",
      "Epoch 85/100\n",
      "17600/17600 [==============================] - 0s 13us/step - loss: 0.0492 - acc: 0.9794\n",
      "Epoch 86/100\n",
      "17600/17600 [==============================] - 0s 11us/step - loss: 0.0512 - acc: 0.9782\n",
      "Epoch 87/100\n",
      "17600/17600 [==============================] - 0s 13us/step - loss: 0.0485 - acc: 0.9801\n",
      "Epoch 88/100\n",
      "17600/17600 [==============================] - 0s 12us/step - loss: 0.0481 - acc: 0.9800\n",
      "Epoch 89/100\n",
      "17600/17600 [==============================] - 0s 14us/step - loss: 0.0480 - acc: 0.9807\n",
      "Epoch 90/100\n",
      "17600/17600 [==============================] - 0s 12us/step - loss: 0.0487 - acc: 0.9802\n",
      "Epoch 91/100\n",
      "17600/17600 [==============================] - 0s 12us/step - loss: 0.0493 - acc: 0.9794\n",
      "Epoch 92/100\n",
      "17600/17600 [==============================] - 0s 12us/step - loss: 0.0483 - acc: 0.9796\n",
      "Epoch 93/100\n",
      "17600/17600 [==============================] - 0s 12us/step - loss: 0.0482 - acc: 0.9807\n",
      "Epoch 94/100\n",
      "17600/17600 [==============================] - 0s 17us/step - loss: 0.0488 - acc: 0.9802\n",
      "Epoch 95/100\n",
      "17600/17600 [==============================] - 0s 13us/step - loss: 0.0487 - acc: 0.9793\n",
      "Epoch 96/100\n",
      "17600/17600 [==============================] - 0s 17us/step - loss: 0.0485 - acc: 0.9801: 0s - loss: 0.0491 - acc: 0.9\n",
      "Epoch 97/100\n",
      "17600/17600 [==============================] - 0s 13us/step - loss: 0.0478 - acc: 0.9797\n",
      "Epoch 98/100\n",
      "17600/17600 [==============================] - 0s 18us/step - loss: 0.0489 - acc: 0.9800\n",
      "Epoch 99/100\n",
      "17600/17600 [==============================] - 0s 12us/step - loss: 0.0486 - acc: 0.9795\n",
      "Epoch 100/100\n",
      "17600/17600 [==============================] - 0s 13us/step - loss: 0.0486 - acc: 0.9803\n"
     ]
    },
    {
     "data": {
      "text/plain": [
       "<keras.callbacks.History at 0x1fd29d3fdd8>"
      ]
     },
     "execution_count": 506,
     "metadata": {},
     "output_type": "execute_result"
    }
   ],
   "source": [
    "model.fit(x_train,y_train,epochs=100,batch_size=100)"
   ]
  },
  {
   "cell_type": "code",
   "execution_count": 519,
   "metadata": {},
   "outputs": [],
   "source": [
    "model.save(\"project.h5\")"
   ]
  },
  {
   "cell_type": "code",
   "execution_count": 12,
   "metadata": {},
   "outputs": [],
   "source": [
    "y_pred=model.predict(x_test)"
   ]
  },
  {
   "cell_type": "code",
   "execution_count": 13,
   "metadata": {},
   "outputs": [
    {
     "data": {
      "text/plain": [
       "4400"
      ]
     },
     "execution_count": 13,
     "metadata": {},
     "output_type": "execute_result"
    }
   ],
   "source": [
    "l = len(y_pred)\n",
    "l"
   ]
  },
  {
   "cell_type": "code",
   "execution_count": 14,
   "metadata": {},
   "outputs": [],
   "source": [
    "for i in range(l):\n",
    "    if(y_pred[i] > 0.5):\n",
    "        y_pred[i] =int(1)\n",
    "    else:\n",
    "        y_pred[i]=int(0)\n"
   ]
  },
  {
   "cell_type": "code",
   "execution_count": 15,
   "metadata": {},
   "outputs": [],
   "source": [
    "y_pred=y_pred.astype(int)"
   ]
  },
  {
   "cell_type": "code",
   "execution_count": 16,
   "metadata": {},
   "outputs": [
    {
     "data": {
      "text/plain": [
       "array([1], dtype=int64)"
      ]
     },
     "execution_count": 16,
     "metadata": {},
     "output_type": "execute_result"
    }
   ],
   "source": [
    "y_test[8]"
   ]
  },
  {
   "cell_type": "code",
   "execution_count": 17,
   "metadata": {},
   "outputs": [
    {
     "data": {
      "text/plain": [
       "array([1])"
      ]
     },
     "execution_count": 17,
     "metadata": {},
     "output_type": "execute_result"
    }
   ],
   "source": [
    "y_pred[1]"
   ]
  },
  {
   "cell_type": "code",
   "execution_count": 11,
   "metadata": {},
   "outputs": [
    {
     "name": "stdout",
     "output_type": "stream",
     "text": [
      "WARNING:tensorflow:From C:\\Users\\Akhil\\Anaconda3\\lib\\site-packages\\tensorflow\\python\\framework\\op_def_library.py:263: colocate_with (from tensorflow.python.framework.ops) is deprecated and will be removed in a future version.\n",
      "Instructions for updating:\n",
      "Colocations handled automatically by placer.\n",
      "WARNING:tensorflow:From C:\\Users\\Akhil\\Anaconda3\\lib\\site-packages\\tensorflow\\python\\ops\\math_ops.py:3066: to_int32 (from tensorflow.python.ops.math_ops) is deprecated and will be removed in a future version.\n",
      "Instructions for updating:\n",
      "Use tf.cast instead.\n"
     ]
    }
   ],
   "source": [
    "from keras.models import load_model\n",
    "model = load_model(\"project.h5\")"
   ]
  },
  {
   "cell_type": "code",
   "execution_count": 18,
   "metadata": {},
   "outputs": [],
   "source": [
    "from sklearn.metrics import confusion_matrix"
   ]
  },
  {
   "cell_type": "code",
   "execution_count": 19,
   "metadata": {},
   "outputs": [],
   "source": [
    "matrix = confusion_matrix(y_test, y_pred)"
   ]
  },
  {
   "cell_type": "code",
   "execution_count": 20,
   "metadata": {},
   "outputs": [
    {
     "data": {
      "text/plain": [
       "array([[ 152,   72],\n",
       "       [  17, 4159]], dtype=int64)"
      ]
     },
     "execution_count": 20,
     "metadata": {},
     "output_type": "execute_result"
    }
   ],
   "source": [
    "matrix"
   ]
  },
  {
   "cell_type": "code",
   "execution_count": 21,
   "metadata": {},
   "outputs": [
    {
     "data": {
      "text/plain": [
       "1"
      ]
     },
     "execution_count": 21,
     "metadata": {},
     "output_type": "execute_result"
    }
   ],
   "source": [
    "pred=model.predict(np.array([[35,74,90,70,80]]))\n",
    "if(pred > 0.5):\n",
    "    pred =int(1)\n",
    "else:\n",
    "    pred =int(0)\n",
    "pred    "
   ]
  },
  {
   "cell_type": "code",
   "execution_count": 22,
   "metadata": {},
   "outputs": [
    {
     "data": {
      "text/plain": [
       "array([[1],\n",
       "       [1],\n",
       "       [1],\n",
       "       ...,\n",
       "       [1],\n",
       "       [1],\n",
       "       [1]], dtype=int64)"
      ]
     },
     "execution_count": 22,
     "metadata": {},
     "output_type": "execute_result"
    }
   ],
   "source": [
    "y_test"
   ]
  },
  {
   "cell_type": "code",
   "execution_count": 23,
   "metadata": {},
   "outputs": [
    {
     "data": {
      "text/plain": [
       "array([[1],\n",
       "       [1],\n",
       "       [1],\n",
       "       ...,\n",
       "       [1],\n",
       "       [1],\n",
       "       [1]])"
      ]
     },
     "execution_count": 23,
     "metadata": {},
     "output_type": "execute_result"
    }
   ],
   "source": [
    "y_pred\n"
   ]
  },
  {
   "cell_type": "code",
   "execution_count": 24,
   "metadata": {},
   "outputs": [
    {
     "data": {
      "text/plain": [
       "array([ 55,  71, 125,  85, 200], dtype=int64)"
      ]
     },
     "execution_count": 24,
     "metadata": {},
     "output_type": "execute_result"
    }
   ],
   "source": [
    "x_test[0]"
   ]
  },
  {
   "cell_type": "code",
   "execution_count": null,
   "metadata": {},
   "outputs": [],
   "source": []
  }
 ],
 "metadata": {
  "kernelspec": {
   "display_name": "Python 3",
   "language": "python",
   "name": "python3"
  },
  "language_info": {
   "codemirror_mode": {
    "name": "ipython",
    "version": 3
   },
   "file_extension": ".py",
   "mimetype": "text/x-python",
   "name": "python",
   "nbconvert_exporter": "python",
   "pygments_lexer": "ipython3",
   "version": "3.7.3"
  }
 },
 "nbformat": 4,
 "nbformat_minor": 2
}
